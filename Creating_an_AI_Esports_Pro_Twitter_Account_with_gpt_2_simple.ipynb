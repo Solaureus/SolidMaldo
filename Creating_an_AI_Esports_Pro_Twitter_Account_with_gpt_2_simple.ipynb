{
  "nbformat": 4,
  "nbformat_minor": 0,
  "metadata": {
    "colab": {
      "name": "Creating an AI Esports Pro Twitter Account with gpt-2-simple.ipynb",
      "provenance": []
    },
    "kernelspec": {
      "name": "python3",
      "display_name": "Python 3"
    },
    "accelerator": "GPU"
  },
  "cells": [
    {
      "cell_type": "markdown",
      "metadata": {
        "id": "nksTQrVPtBr3"
      },
      "source": [
        "# Creating an AI Esports Pro Twitter Account with gpt-2-simple"
      ]
    },
    {
      "cell_type": "markdown",
      "metadata": {
        "id": "9Sh0LTTsuCZJ"
      },
      "source": [
        "## Preface"
      ]
    },
    {
      "cell_type": "markdown",
      "metadata": {
        "id": "h-kiKGbEuMg4"
      },
      "source": [
        "GPT-2 is a prominent open-source (MIT) language-processing machine-learning model that can generate text given training data. In this project, we aim to train GPT-2 on the tweets of 21 esports professionals (current and former) to generate original tweets of the same style.\n",
        "\n",
        "We will utilize the TWINT (Twitter Intelligence Tool) and gpt-2-simple libraries to achieve this goal."
      ]
    },
    {
      "cell_type": "markdown",
      "metadata": {
        "id": "YLzaMccoyRXn"
      },
      "source": [
        "## Scraping Data"
      ]
    },
    {
      "cell_type": "markdown",
      "metadata": {
        "id": "yGMKiIkUtw-U"
      },
      "source": [
        "We used TWINT to scrape 41,379 tweets from various esports professionals and saved the raw text data into a single column .csv.\n",
        "\n",
        "Our basic queries through powershell were `twint -u username -s \" -filter:replies -filter:links\" -fr -o file.csv --csv`\n",
        "\n",
        "This code scrapes all tweets from a user \"username\" (excluding replies, retweets, and tweets including links), and their associated data into a .csv. We repeated this process for 21 different esports pros, deleted all columns but raw text data, and merged all .csvs into a final \"tweets.csv\" as our input for GPT-2."
      ]
    },
    {
      "cell_type": "markdown",
      "metadata": {
        "id": "81Kh_kMbzBnD"
      },
      "source": [
        "## Training the Model"
      ]
    },
    {
      "cell_type": "markdown",
      "metadata": {
        "id": "slc919qI5RGo"
      },
      "source": [
        "Colab is a convenient development environment for this project as it comes preinstalled with TensorFlow (a requirement for gpt-2-simple) and allows us to present our project to you in an orderly fashion.\n",
        "\n",
        "Here we tell Colab to use the latest version of TensorFlow 1, as gpt-2-simple does not support TensorFlow 2. We then install gpt-2-simple onto the VM (Virtual Machine) and import it as gpt2."
      ]
    },
    {
      "cell_type": "code",
      "metadata": {
        "id": "b8rgbCjD4SwG",
        "outputId": "88d86e03-233e-4ae4-b9ce-86d13d5a99f4",
        "colab": {
          "base_uri": "https://localhost:8080/"
        }
      },
      "source": [
        "%tensorflow_version 1.x\n",
        "!pip install gpt-2-simple\n",
        "import gpt_2_simple as gpt2"
      ],
      "execution_count": 1,
      "outputs": [
        {
          "output_type": "stream",
          "text": [
            "TensorFlow 1.x selected.\n",
            "Collecting gpt-2-simple\n",
            "  Downloading https://files.pythonhosted.org/packages/6f/e4/a90add0c3328eed38a46c3ed137f2363b5d6a07bf13ee5d5d4d1e480b8c3/gpt_2_simple-0.7.1.tar.gz\n",
            "Requirement already satisfied: regex in /usr/local/lib/python3.6/dist-packages (from gpt-2-simple) (2019.12.20)\n",
            "Requirement already satisfied: requests in /usr/local/lib/python3.6/dist-packages (from gpt-2-simple) (2.23.0)\n",
            "Requirement already satisfied: tqdm in /usr/local/lib/python3.6/dist-packages (from gpt-2-simple) (4.41.1)\n",
            "Requirement already satisfied: numpy in /usr/local/lib/python3.6/dist-packages (from gpt-2-simple) (1.18.5)\n",
            "Collecting toposort\n",
            "  Downloading https://files.pythonhosted.org/packages/e9/8a/321cd8ea5f4a22a06e3ba30ef31ec33bea11a3443eeb1d89807640ee6ed4/toposort-1.5-py2.py3-none-any.whl\n",
            "Requirement already satisfied: chardet<4,>=3.0.2 in /usr/local/lib/python3.6/dist-packages (from requests->gpt-2-simple) (3.0.4)\n",
            "Requirement already satisfied: certifi>=2017.4.17 in /usr/local/lib/python3.6/dist-packages (from requests->gpt-2-simple) (2020.6.20)\n",
            "Requirement already satisfied: urllib3!=1.25.0,!=1.25.1,<1.26,>=1.21.1 in /usr/local/lib/python3.6/dist-packages (from requests->gpt-2-simple) (1.24.3)\n",
            "Requirement already satisfied: idna<3,>=2.5 in /usr/local/lib/python3.6/dist-packages (from requests->gpt-2-simple) (2.10)\n",
            "Building wheels for collected packages: gpt-2-simple\n",
            "  Building wheel for gpt-2-simple (setup.py) ... \u001b[?25l\u001b[?25hdone\n",
            "  Created wheel for gpt-2-simple: filename=gpt_2_simple-0.7.1-cp36-none-any.whl size=23581 sha256=fcd0d1512d4072f231432f437973d55d5f5a0257c6a064189849a483c3b459c4\n",
            "  Stored in directory: /root/.cache/pip/wheels/0c/f8/23/b53ce437504597edff76bf9c3b8de08ad716f74f6c6baaa91a\n",
            "Successfully built gpt-2-simple\n",
            "Installing collected packages: toposort, gpt-2-simple\n",
            "Successfully installed gpt-2-simple-0.7.1 toposort-1.5\n",
            "WARNING:tensorflow:\n",
            "The TensorFlow contrib module will not be included in TensorFlow 2.0.\n",
            "For more information, please see:\n",
            "  * https://github.com/tensorflow/community/blob/master/rfcs/20180907-contrib-sunset.md\n",
            "  * https://github.com/tensorflow/addons\n",
            "  * https://github.com/tensorflow/io (for I/O related ops)\n",
            "If you depend on functionality not listed there, please file an issue.\n",
            "\n"
          ],
          "name": "stdout"
        }
      ]
    },
    {
      "cell_type": "markdown",
      "metadata": {
        "id": "C8NvHHwe55MT"
      },
      "source": [
        "We download a GPT-2 model of size 355M."
      ]
    },
    {
      "cell_type": "code",
      "metadata": {
        "id": "1uPq3KCI8E35",
        "outputId": "543358c0-3a0c-4cbe-b7f5-23e9352d4779",
        "colab": {
          "base_uri": "https://localhost:8080/"
        }
      },
      "source": [
        "gpt2.download_gpt2(model_name=\"355M\")"
      ],
      "execution_count": 2,
      "outputs": [
        {
          "output_type": "stream",
          "text": [
            "Fetching checkpoint: 1.05Mit [00:00, 262Mit/s]                                                      \n",
            "Fetching encoder.json: 1.05Mit [00:00, 115Mit/s]                                                    \n",
            "Fetching hparams.json: 1.05Mit [00:00, 407Mit/s]                                                    \n",
            "Fetching model.ckpt.data-00000-of-00001: 1.42Git [00:05, 251Mit/s]                                  \n",
            "Fetching model.ckpt.index: 1.05Mit [00:00, 247Mit/s]                                                \n",
            "Fetching model.ckpt.meta: 1.05Mit [00:00, 110Mit/s]                                                 \n",
            "Fetching vocab.bpe: 1.05Mit [00:00, 160Mit/s]                                                       \n"
          ],
          "name": "stderr"
        }
      ]
    },
    {
      "cell_type": "markdown",
      "metadata": {
        "id": "9eM9_1WM7SrQ"
      },
      "source": [
        "We mount one of our personal Google Drives onto the VM for easy access to our input data."
      ]
    },
    {
      "cell_type": "code",
      "metadata": {
        "id": "8GHJC-KF8O78",
        "outputId": "bb8b4ab5-5016-48b6-fe93-a259612b9ac4",
        "colab": {
          "base_uri": "https://localhost:8080/"
        }
      },
      "source": [
        "gpt2.mount_gdrive()"
      ],
      "execution_count": 3,
      "outputs": [
        {
          "output_type": "stream",
          "text": [
            "Drive already mounted at /content/drive; to attempt to forcibly remount, call drive.mount(\"/content/drive\", force_remount=True).\n"
          ],
          "name": "stdout"
        }
      ]
    },
    {
      "cell_type": "markdown",
      "metadata": {
        "id": "vKJXvqpn8Yao"
      },
      "source": [
        "We load tweets.csv from Google Drive, create a TensorFlow session object, and finetune (train) our fresh model on tweets.csv over 1001 steps. When it is finished, our checkpoint model will be stored in a folder named \"trained_model\". Every 50 steps, the program will print the training progress and every 200 steps, a sample of generated text. It will also save a checkpoint model every 200 steps."
      ]
    },
    {
      "cell_type": "code",
      "metadata": {
        "id": "WaRW1Bo-Oa77",
        "outputId": "2b564a4e-0455-40f9-8793-f6f5cd2679cf",
        "colab": {
          "base_uri": "https://localhost:8080/"
        }
      },
      "source": [
        "gpt2.copy_file_from_gdrive(\"tweets.csv\")\n",
        "\n",
        "sess = gpt2.start_tf_sess()\n",
        "\n",
        "gpt2.finetune(sess,\n",
        "              dataset=\"tweets.csv\",\n",
        "              model_name=\"355M\",\n",
        "              steps=1001,\n",
        "              restore_from=\"fresh\",\n",
        "              run_name=\"trained_model\",\n",
        "              print_every=50,\n",
        "              sample_every=200,\n",
        "              save_every=200\n",
        "              )"
      ],
      "execution_count": 4,
      "outputs": [
        {
          "output_type": "stream",
          "text": [
            "WARNING:tensorflow:From /usr/local/lib/python3.6/dist-packages/gpt_2_simple/src/sample.py:17: where (from tensorflow.python.ops.array_ops) is deprecated and will be removed in a future version.\n",
            "Instructions for updating:\n",
            "Use tf.where in 2.0, which has the same broadcast rule as np.where\n",
            "WARNING:tensorflow:From /usr/local/lib/python3.6/dist-packages/gpt_2_simple/src/memory_saving_gradients.py:62: get_backward_walk_ops (from tensorflow.contrib.graph_editor.select) is deprecated and will be removed after 2019-06-06.\n",
            "Instructions for updating:\n",
            "Please use tensorflow.python.ops.op_selector.get_backward_walk_ops.\n",
            "Loading checkpoint models/355M/model.ckpt\n",
            "INFO:tensorflow:Restoring parameters from models/355M/model.ckpt\n"
          ],
          "name": "stdout"
        },
        {
          "output_type": "stream",
          "text": [
            "100%|██████████| 1/1 [00:00<00:00,  8.21it/s]"
          ],
          "name": "stderr"
        },
        {
          "output_type": "stream",
          "text": [
            "Loading dataset...\n"
          ],
          "name": "stdout"
        },
        {
          "output_type": "stream",
          "text": [
            "\n"
          ],
          "name": "stderr"
        },
        {
          "output_type": "stream",
          "text": [
            "dataset has 1592043 tokens\n",
            "Training...\n",
            "[50 | 91.08] loss=2.42 avg=2.42\n",
            "[100 | 173.36] loss=3.01 avg=2.71\n",
            "[150 | 255.85] loss=2.63 avg=2.69\n",
            "[200 | 338.04] loss=2.06 avg=2.53\n",
            "Saving checkpoint/trained_model/model-200\n",
            "======== SAMPLE 1 ========\n",
            "||<|startoftext|>I really like the idea of the top half of the stage being frozen when they enter a wall. Maybe it will be fun to see them slide down the wall when they enter it in a wall rush?<|endoftext|>\n",
            "<|startoftext|>I really enjoy how competitive, and unique, Brawl can be. When you see a lot of the same people with the same things, it's fun<|endoftext|>\n",
            "<|startoftext|>I really enjoyed the ESEA games today, still having a lot of practice going into it. Hope everyone still shows up, and I'll come back to the stage again tomorrow!<|endoftext|>\n",
            "<|startoftext|>I really like getting a little creative with my Smash 4 sets and creating fun, exciting moments to share with my family, while also making the game more fun to play if you're not too used or don't know what to do with the character. It has it good on Melee too, im enjoying Melee more when people make me feel good so I can relax even more!<|endoftext|>\n",
            "<|startoftext|>I really liked going to the game convention, even if it was the last one of the year, the fans were awesome =) love the @WizzyGonzaga @WizzyGonzaga games =)<|endoftext|>\n",
            "<|startoftext|>I just finished watching the NBA playoffs and I can't help but feel like my team and I should always win the tournament. Like I'm supposed to. Like every team should. We've been playing better the last month. I just hope I never see anyone that would say they care about the game being competitive  :P<|endoftext|>\n",
            "<|startoftext|>I just watched the 2016 US Grand Finals at MSG - it was a great game, but lost to 2-3 teams. It was really good. I didn't like the @Eagles match, sorry -_- but good times ahead! Good to finally play the American team at the finals again!<|endoftext|>\n",
            "<|startoftext|>I just wanted to let everyone know that my twitter is gone so I can just be myself for the night.  I am going to watch my best friend play at the #SmashConvention &lt;3<|endoftext|>\n",
            "<|startoftext|>I just watched the match, it was fun to watch, but at least we won. GG!<|endoftext|>\n",
            "<|startoftext|>I just watched my first match at @DreamHack Winter with @C9GG and @n0thing, and it got me really fired up and ready to play in the next few days.  And I'm excited and excited to play you again.  Have a great day and see you tomorrow. See you tomorrow, my friend. See you after the cup   I'm very pumped so good to get back in a couple hrs~<|endoftext|>\n",
            "<|startoftext|>I just watched the last season of @ESLCS @ESLCS! Love you all so much, and thanks for the atmosphere, it was truly the best show and I hope you all enjoy the stream next month!<|endoftext|>\n",
            "<|startoftext|>I just watched the match from my couch   Great work @Liquid_Mkleosb , just amazing   You're great!<|endoftext|>\n",
            "<|startoftext|>I just watched the last half a 1 hour stream, then I'm watching games with @The_Mkleosb @Mkleosb_, but he has to do the live stream a lot<|endoftext|>\n",
            "<|startoftext|>I just watched the last match from the cup - it WAS fun, now I'm ready for the big match. Let the fun begin 😡<|endoftext|>\n",
            "<|startoftext|>I just watched the most epic game ever made on stream @ESLCS, really great game &lt;3<|endoftext|>\n",
            "<|startoftext|>I just watched the World Cup Final (and don't really care for soccer)  Got a lot of awesome stories and things to talk about, and it was a fantastic game and a really fun night!  GG @Twitch @PewPewU @Twitch @twitchTwitch and all my good friends.  Enjoy @C9DotA @JYP @C9Mang0 <|endoftext|>\n",
            "<|startoftext|>I just watched the World Cup Final live, so hopefully we get the second place goal and end the tournament on a high note\n",
            "\n",
            "[250 | 453.62] loss=1.91 avg=2.40\n",
            "[300 | 536.47] loss=2.65 avg=2.44\n",
            "[350 | 619.53] loss=2.49 avg=2.45\n",
            "[400 | 702.26] loss=2.47 avg=2.45\n",
            "Saving checkpoint/trained_model/model-400\n",
            "WARNING:tensorflow:From /tensorflow-1.15.2/python3.6/tensorflow_core/python/training/saver.py:963: remove_checkpoint (from tensorflow.python.training.checkpoint_management) is deprecated and will be removed in a future version.\n",
            "Instructions for updating:\n",
            "Use standard file APIs to delete files with this prefix.\n",
            "======== SAMPLE 1 ========\n",
            "text|>\n",
            "<|startoftext|>so, i was playing @Bjergsen and someone told me: \"you need to focus a bit more on this because it's really easy to get stuck in\", and i said... wtf? i was playing my best when i didnt... but someone then asked me to rephrase what i said and i said it to make it clear i played well<|endoftext|>\n",
            "<|startoftext|>so, I am playing kombat on stream and I am actually struggling more than melees and pug.  I guess this is the reason I'm not in it.<|endoftext|>\n",
            "<|startoftext|>so, I got two new PS4 models which will go in the kombat house in about 2 weeks so if i want one for kombat let me know<|endoftext|>\n",
            "<|startoftext|>so, I got banned from @f1league once for doing the \"no fucks\" meme. So angry and frustrated as always. @f1league @gf  @Dekillsage @n4_tv<|endoftext|>\n",
            "<|startoftext|>so, I'm playing in a game right now on mendo@turtlegames, one of his servers is dying and we're trying to fix it and he said he has no servers for me<|endoftext|>\n",
            "<|startoftext|>so, i'm playing the smash4 beta on his server. But the only people who can stream it? my opponents and me. That's really messed up right now<|endoftext|>\n",
            "<|startoftext|>So, today was the day I started to miss my morning stream.   It's been one year since I last streamed and it's definitely been an improvement and I had a lot of fun today<|endoftext|>\n",
            "<|startoftext|>so, today with the team was good but today was also really fun, thanks for watching!   :D<|endoftext|>\n",
            "<|startoftext|>so, today with the team was fun but today was also super stressful. A lot of games, but it was really fun and I had some really good matches and hopefully I can do more like this.<|endoftext|>\n",
            "<|startoftext|>So, the stream is over so I have to sleep, but I wanted to explain why I like the new matchmaking system I'm using, it's really a first for the matchmaking system.<|endoftext|>\n",
            "<|startoftext|>Soz.  GOOZ &amp; gg @c9wolf89 @c9sams<|endoftext|>\n",
            "<|startoftext|>Soz is actually really good, but I have no idea how and why to play and he's still not on the latest NA patch :( He's been really bad for me, but today his skill and execution really showed.<|endoftext|>\n",
            "<|startoftext|>SOZ IS SO FURRY.   YOU'RE GONNA LIFT THE WORLD<|endoftext|>\n",
            "<|startoftext|>soz is so fast. i love it.<|endoftext|>\n",
            "<|startoftext|>Soz.   GOOZ   @josh_truong<|endoftext|>\n",
            "<|startoftext|>SOZ IS SUFFICIENT FOR ME   AND I CAN GOOOO.<|endoftext|>\n",
            "<|startoftext|>soz.. very good   And i have no idea how or why, but I’m super happy with myself or the match. I also feel like it’s super unfair to all but myself.<|endoftext|>\n",
            "<|startoftext|>soz i don't need no rest, I'm playing kombat and i am fucking Puffing  and it’s super hard<|endoftext|>\n",
            "<|startoftext|>SOZ I PLAYED @SonicFox,  I DID A LITTLE BETRAYAL ON HIS BASIS WHEN WE RANKED AGAINST KAPLAN (1 RANKING ROFL) &gt;:1<|endoftext|>\n",
            "<|startoftext|>SOZ I'VE HAD ONE GAME ON A GUARD   I CANT WIN   JESUS, KAFEN AND I ARE A LITTLE GOOD BUT WE ARE A LITTLE HARD   WOOOOOOOOO<|endoftext|>\n",
            "<|startoftext|>soz i won my first battle in the new week<|end\n",
            "\n",
            "[450 | 814.16] loss=2.55 avg=2.46\n",
            "[500 | 896.96] loss=2.31 avg=2.45\n",
            "[550 | 979.78] loss=2.18 avg=2.42\n",
            "[600 | 1062.49] loss=2.09 avg=2.39\n",
            "Saving checkpoint/trained_model/model-600\n",
            "======== SAMPLE 1 ========\n",
            " today to get my first taste of Starcraft. I love all the characters, they are incredible. It's really humongous, and I am hyped to get out of bed with such awesome character.</span>\n",
            "<ul>Today we're talking about the state of Hearthstone now that almost all new cards are playable.    I get a lot of questions on what's the new meta/standard/standard, and it's my hope that if players can see one another, players can talk about it =)<|endoftext|>\n",
            "<ul>Today we're talking about the biggest of the most important things; how much to pay attention/read/analyze, how to set goals/goalsets etc.<|endoftext|>\n",
            "<ul>Today we're talking about streaming with @carlieMakes and @carliethefrost.   Very much the last couple of weeks it's been an awesome experience for both parties, so hopefully we can continue a little bit, as we start off at 12th place in the NA ladder at the same time.<|endoftext|>\n",
            "<ul>Today we're practicing at 9:20 in the morning.   So excited   No sleep last night -  Would like to use this opportunity to make sure I get a better start for my next trip   (I haven't slept in forever)  Will do my best to do it, but I can't change my schedule :/<|endoftext|>\n",
            "<ul>tomorrow we're back to streaming with my other crew @TeamVoyboy  and with a friend @Nakkiel_Duck for a few hours of a day before playing a full day of the beta.  Happy friday, nakkiel :)<|endoftext|>\n",
            "<ul>Tonight ive tried to start late but the latency is too long for hours of streaming, probably going to sleep in at best and wake up at worst<|endoftext|>\n",
            "<ul>Tonight we're taking a 4 day break to recharge.   You want the details?   - This is the end of my livestream -  - After the break -  - Just my usual stream -  - A short stream  - Then some more -  - Finally getting some rest -   I will also be taking a few days off but your luck will be different -<|endoftext|>\n",
            "<ul>Tonight we run a random 5 man crew   - I'm on a timer -  - We play vs 2 other teams   2 more to go<|endoftext|>\n",
            "<ul>Tonight they're playing vs the winner of @TeamLiquid in a double elimination (L-L). Might stream in the evening, not sure yet.   #C9C9W0X<|endoftext|>\n",
            "<ul>tomorrow we're playing the winner of CLG vs the winner of @OpTicCats in a BO7 (W-L).  Gonna try to go full stream but not sure if will take more time :/  Probably gonna try something before I die :~)<|endoftext|>\n",
            "<ul>Tonight the boys are at it again - @OpTicCats &amp; @TSMWildTurtle are the newest co-hosts of NootNan. We'll be talking about the game for some time and how it happened.  @OPTAICS -  @C0T_RiFFER - @Ricardor @s1mplTurtle -  @C9Mang0  @C9Mang0  How do these games compare? And what are the most notable issues we've had?<|endoftext|>\n",
            "<ul>Tonight they're running my game, now is the time, my bad @OpTicCats!<|endoftext|>\n",
            "<ul>Tonight its the day after Blizzcon.   Will try to take a little time to relax before we come back      #CSGL2017<|endoftext|>\n",
            "<ul>Today was the day off - going to be streaming with a few of my old team mates (also some new one too) at around 5 (in the morning) =D<|endoftext|>\n",
            "<ul>Tonight is the day before ESX, just for fun we'll be playing around 8-9 AM CET...  See you then =)<|endoftext|>\n",
            "<ul>Tonight in Copenhagen we will play against @C9Mang0 vs @TeamLiquid in a BO5 where they will be the one to go up to the top 4 - we'll also face SK, SK will have at least 2 teams that will be the winners of their group, the winner of the SK\n",
            "\n",
            "[650 | 1174.05] loss=2.11 avg=2.37\n",
            "[700 | 1256.83] loss=2.32 avg=2.37\n",
            "[750 | 1339.79] loss=1.72 avg=2.32\n",
            "[800 | 1422.83] loss=2.38 avg=2.32\n",
            "Saving checkpoint/trained_model/model-800\n",
            "======== SAMPLE 1 ========\n",
            " seems to be a very strong option (or a must for now).  If you are a tank/healer, you NEED this!<|endoftext|>\n",
            "<|startoftext|>It's not a joke when you get to hear those \"I don't mind\" moments a lot as a pro player (or a person).  You have no idea.<|endoftext|>\n",
            "<|startoftext|>It's not always fun to watch, but atleast when your team plays well and win<|endoftext|>\n",
            "<|startoftext|>It's not always easy being on a team full of idiots, but it can be the only way forward<|endoftext|>\n",
            "<|startoftext|>It's not always easy to keep a straight face, but we always manage to come out the other side the same way!!<|endoftext|>\n",
            "<|startoftext|>it's not always nice being first in a tourney with your teammate but i think this team dynamic is what allows me to excel at this event.  Thanks for always supporting us!!!\"<|endoftext|>\n",
            "<|startoftext|>It's not always easy to win Smash 4 sets, but it happens. You just gotta keep grinding<|endoftext|>\n",
            "<|startoftext|>it's not often I get to choose what Melee events I will attend, but this was definitely my best shot so far with @EG_PPMD.<|endoftext|>\n",
            "<|startoftext|>It's not often that I am approached by a coach I'm interested in/like (even someone with a lot of experience in other games).<|endoftext|>\n",
            "<|startoftext|>it's not often you get to go on a camping trip with the team...<|endoftext|>\n",
            "<|startoftext|>It's not often your first hit from the Puff gets the job done.   I'm gonna make it so bad I need to give up on you<|endoftext|>\n",
            "<|startoftext|>it's not the first time, nor the last time, you see a \"team\" and someone gets beat.   You can't win tag with 3 subs in a crew  or 4 subs in a crew   You can't do it.<|endoftext|>\n",
            "<|startoftext|>it's not the first time I've missed out playing smash4 on the PS4, but maybe next time.<|endoftext|>\n",
            "<|startoftext|>It's actually pretty entertaining that @UGS_Android is taking an entire day off from streaming to attend his baby   LMAOOOO<|endoftext|>\n",
            "<|startoftext|>it's actually a lot easier to look at a picture of me crying than it is to go to a tournament with a sick ass and a shitty controller   So sad to see where a lot of this is taking place   🤣<|endoftext|>\n",
            "<|startoftext|>It's also amazing how close we are, not only through one series but through it all, despite obviously being at a high level. I'll be back stronger!!<|endoftext|>\n",
            "<|startoftext|>It's actually kind of sad how the competitive scene has really fallen off over the last couple months. I wish it wasn't this way.. but at least we're slowly fixing that<|endoftext|>\n",
            "<|startoftext|>It's actually kind of odd to see people that think I do very well on consoles always throw around words like \"funny\". I'd be the first to admit it's a fun game, but its fun to play.<|endoftext|>\n",
            "<|startoftext|>It's also strange to me to where some pros dont realize just what sort of work goes into Melee, and how much it takes to make it the game that it is -_-   And some of that work is the same kind of work that is done for the smash event -_-<|endoftext|>\n",
            "<|startoftext|>It's also strange that a number of people have such high expectations for how Melee should be looked at/played in its current state, yet so many people are looking forward too, as if Melee should be a spectator sport.<|endoftext|>\n",
            "<|startoftext|>It's also strange that people on twitter are using the same insult as being the biggest cunt, even though both terms are 100% derogatory in meaning. @SotLTravis is the real deal, you all know it.<|endoftext|>\n",
            "<|startoftext|>it's actually nice to see a player\n",
            "\n",
            "[850 | 1534.60] loss=2.67 avg=2.35\n",
            "[900 | 1617.57] loss=2.49 avg=2.35\n",
            "[950 | 1700.27] loss=1.99 avg=2.33\n",
            "[1000 | 1783.30] loss=1.78 avg=2.30\n",
            "Saving checkpoint/trained_model/model-1000\n",
            "======== SAMPLE 1 ========\n",
            "anity/social stuff with him, @G2Goga was very impressive<|endoftext|>\n",
            "<|startoftext|>A lot of people think they can find the right words when someone loses a game   It's like how I think i find me a way out of a bad situation lol<|endoftext|>\n",
            "<|startoftext|>A lot of people thought it was all over because the other two teams played against fnatic and lost. That's why that game was the last game that went live<|endoftext|>\n",
            "<|startoftext|>A lot of people seem to think that losing is the best way of qualifying   Which really isn't true at all   LETS GO<|endoftext|>\n",
            "<|startoftext|>A lot of people seem to think I should've already announced the stream because of the last two games we played the other two would make the final<|endoftext|>\n",
            "<|startoftext|>A lot things I'm feeling I will only have to do in my head for once if it doesn't get to me so I need to go slow<|endoftext|>\n",
            "<|startoftext|>a lot things in this weekend, im pretty confident I'm doing well for it.  But for the record I had a lot of fun =)<|endoftext|>\n",
            "<|startoftext|>A lot of very recent matches show why izt was a pretty hot map to play. I don't think that map is going to get good vetoes this tournament.  I think people going to CT/GO will win these games.  So if they lose these maps im confident that I know something is wrong with my picks/planning<|endoftext|>\n",
            "<|startoftext|>A lot of things to catch up on. Will be streaming after the MLG match vs EG<|endoftext|>\n",
            "<|startoftext|>a lot of thoughts rn, I won my first ever tournament in a video game!  Today was a fun day of practice and watching some of the really cool content with @theAllianceGG &lt;3 cheers<|endoftext|>\n",
            "<|startoftext|>A lot of things would cause me to not use a mouse/keyboard and instead get a controller, and for some reason I really like that. What do you guys think?<|endoftext|>\n",
            "<|startoftext|>A lot of times I feel terrible because I am trying to fix something for myself / work. However, for now just get a lot of sleep, get outside and play!<|endoftext|>\n",
            "<|startoftext|>A lot of tournaments I have played have just \"tweaked\" the most important aspect so the hardest part is always taken care of. However, this tournament took the most out of this patch/feature and it was definitely the hardest part.<|endoftext|>\n",
            "<|startoftext|>a lot of things will go wrong but the thing is  I just need time. I hope I will be able to show myself that I'm a \"good enough\" player tomorrow even if I never am.<|endoftext|>\n",
            "<|startoftext|>a lot of things I'd like to take off this week but the most important is I'll be coming back to stream on Tuesday and Friday. And I'll be doing a new stream on Friday!<|endoftext|>\n",
            "<|startoftext|>A lot of you are really mad I'm getting a new phone now lol. Hopefully we both understand 😯😥<|endoftext|>\n",
            "<|startoftext|>A lot of you people may get tired right as i was just going into the bathroom and the first guy walked up, pointed and said \"you can be a little crazy as fuck, you look ugly!\"<|endoftext|>\n",
            "<|startoftext|>a lot of you guys have been asking to see me at the @FLASHPOINT tournament at the @FLASHPOINT League in Dallas-Fort Worth (Fort Worth, TX USA) so now is the time to see you with my squad<|endoftext|>\n",
            "<|startoftext|>A lot of you are asking me to go on a trip to see my family in Europe so they can be here for my big victory. I know its too risky. I'll have more answers soon<|endoftext|>\n",
            "<|startoftext|startoftext|>A lot of people have asked for a weeknight stream, that's not my decision. I'll be live at midnight EST tonight!!<|endoftext|>\n",
            "<|startoftext|startoftext|>\n",
            "\n",
            "Saving checkpoint/trained_model/model-1001\n"
          ],
          "name": "stdout"
        }
      ]
    },
    {
      "cell_type": "markdown",
      "metadata": {
        "id": "B53wzPdom9U6"
      },
      "source": [
        "You will notice <|startoftext|> and <|endoftext|> flags in this output that, of course, did not come with the original text data. gpt-2-simple treats single column .csvs as a special case, and adds these flags for easier processing."
      ]
    },
    {
      "cell_type": "markdown",
      "metadata": {
        "id": "fPOC9IbQH4S9"
      },
      "source": [
        "We save the checkpoint model to Google Drive in case we want to load it again at a later time."
      ]
    },
    {
      "cell_type": "code",
      "metadata": {
        "id": "cxDbi3unUuqD"
      },
      "source": [
        "gpt2.copy_checkpoint_to_gdrive(run_name=\"trained_model\")"
      ],
      "execution_count": 5,
      "outputs": []
    },
    {
      "cell_type": "markdown",
      "metadata": {
        "id": "kC_v69zu28zK"
      },
      "source": [
        "## Generating Text"
      ]
    },
    {
      "cell_type": "markdown",
      "metadata": {
        "id": "m1ClCxEIinTg"
      },
      "source": [
        "We generate 20 text samples, in parallel (batch of 20), excluding prefix \"<|startoftext|>\" and ending \"<|endoftext|>\". The token length of 100 is rather arbitrary, since our model has been training on tweet-length data anyways. Higher temperatures (0.7 - 1) generate more \"interesting\" text, according to gpt-2-simple documentation."
      ]
    },
    {
      "cell_type": "code",
      "metadata": {
        "id": "vpiLnRdDYe1A",
        "outputId": "50615bfa-4919-46ab-f958-312cd9123420",
        "colab": {
          "base_uri": "https://localhost:8080/"
        }
      },
      "source": [
        "gpt2.generate(sess,\n",
        "              run_name=\"trained_model\",\n",
        "              length=100,\n",
        "              temperature=0.7,\n",
        "              prefix=\"<|startoftext|>\",\n",
        "              truncate=\"<|endoftext|>\",\n",
        "              include_prefix=False,\n",
        "              nsamples=20,\n",
        "              batch_size=20\n",
        "              )"
      ],
      "execution_count": 6,
      "outputs": [
        {
          "output_type": "stream",
          "text": [
            "vamoa is a izz\n",
            "====================\n",
            "He tried to take me out in the other room, but I'm the one that got the stick. He's a good teammate, he's a good player, and I already have a team to look forward to with my team.  He tried to take me out, I don't know why, but I did get the stick back. I'm sorry. I took the wrong idea out of the other room.\n",
            "====================\n",
            "I have introduced a new score so the Season 3 match will be played at 9:00pm EST. I have no idea how to use the new game mode, but it makes me so happy that it is being introduced, so I will work on it for Season 3 and see if I can make it work for everyone's enjoyment. I have an idea but I need to reach out to the community for feedback first =/\n",
            "====================\n",
            "Lola 3-0s her\n",
            "====================\n",
            "The first half of the year has been EXTREMELY rough for us, still just got the 12th win in a row with a relatively low margin of victory.  We'll be playing the new season on the 3rd side, and I can't help but look forward to the new map, map, and map design.\n",
            "====================\n",
            "For half the day I've been feeling really bad. I’ve been thinking about it all day, and I've been thinking about it all day. But I’m aware of it.\n",
            "====================\n",
            "I actually feel that @Brother_of_Stroke is a better player than I am, and I wanna thank him for his support &lt;3\n",
            "====================\n",
            "It will come to me. I'll have a hard time getting back on the grind. I'll be back tomorrow for more pizza and internet   @iBUYPOWER\n",
            "====================\n",
            "I have a new favorite character in the game, this one has a ridiculously high chance of being the best character out there. I've spent countless hours thinking about who to play this character, but I've never once thought about how good they are.\n",
            "====================\n",
            "I want something that I don't like, and I've always wanted something I didn't like, but I can't find it in the game. I want the right to hate myself. I want the right to be happy.\n",
            "====================\n",
            "#FreeBradley\n",
            "====================\n",
            "1st in the Warner Bros tourney aaaa\n",
            "====================\n",
            "1.5k followers on twitch, I am happy, very happy, I am literally being swedish and sweden for the day. Thank you all so much, we will be back\n",
            "====================\n",
            "What's the best way to do this? I'm thinking removing the music entirely, just to see how it works, making it a pop song that gets you pumped up, and making it a black man's anthem - I'm honestly just too tired to do that.\n",
            "====================\n",
            "The @YT channel i was talking about in the comments has been cancelled for today. I'll be back tomorrow morning, but expect a stream after scrims\n",
            "====================\n",
            "Prob i stream but i'll be live when I'm awake\n",
            "====================\n",
            "This weekend I was going to go for a run and I had diarrhea, I really don't think it's healthy to go for a run or anything. I think it's unhealthy.\n",
            "====================\n",
            "Thank you for listening to my stream and good night\n",
            "====================\n",
            "welcome to the big house, I'm gonna be a man for a while\n",
            "====================\n",
            "I got to look at the new 5:3 aspect ratio on my monitor. What are the pros and cons?\n",
            "====================\n"
          ],
          "name": "stdout"
        }
      ]
    },
    {
      "cell_type": "markdown",
      "metadata": {
        "id": "2-gFhn5anugQ"
      },
      "source": [
        "We use the same parameters as above, but generate a text file of 1000 samples to our VM hard disk. We will then curate this text file for the most interesting/humorous tweets for our AI esports pro! You can follow his wacky antics at: https://twitter.com/SolidMaldo"
      ]
    },
    {
      "cell_type": "code",
      "metadata": {
        "id": "muuB-ABTZQl5"
      },
      "source": [
        "gpt2.generate_to_file(sess,\n",
        "                      run_name=\"trained_model\",\n",
        "                      destination_path=\"1000_generated_tweets.txt\",\n",
        "                      length=100,\n",
        "                      temperature=0.7,\n",
        "                      prefix=\"<|startoftext|>\",\n",
        "                      truncate=\"<|endoftext|>\",\n",
        "                      include_prefix=False,\n",
        "                      nsamples=1000,\n",
        "                      batch_size=20\n",
        "                      )"
      ],
      "execution_count": 7,
      "outputs": []
    }
  ]
}